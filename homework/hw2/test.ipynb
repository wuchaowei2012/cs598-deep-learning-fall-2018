{
 "cells": [
  {
   "cell_type": "code",
   "execution_count": 1,
   "metadata": {
    "collapsed": true
   },
   "outputs": [],
   "source": [
    "from scipy.signal import convolve2d"
   ]
  },
  {
   "cell_type": "code",
   "execution_count": 2,
   "metadata": {
    "collapsed": true
   },
   "outputs": [],
   "source": [
    "import numpy as np\n",
    "x = np.zeros((5, 5))"
   ]
  },
  {
   "cell_type": "code",
   "execution_count": 3,
   "metadata": {},
   "outputs": [
    {
     "data": {
      "text/plain": [
       "array([[   0.,    0.,    0.,    0.,    0.],\n",
       "       [   0.,    0.,    0.,    0.,    0.],\n",
       "       [   0.,  100.,    0.,    0.,    0.],\n",
       "       [   0.,    0.,   50.,    0.,    0.],\n",
       "       [   0.,    0.,    0.,    0.,    0.]])"
      ]
     },
     "execution_count": 3,
     "metadata": {},
     "output_type": "execute_result"
    }
   ],
   "source": [
    "x[2][1] = 100\n",
    "x[3][2] = 50\n",
    "x"
   ]
  },
  {
   "cell_type": "code",
   "execution_count": 4,
   "metadata": {},
   "outputs": [
    {
     "data": {
      "text/plain": [
       "array([[ 1.,  1.,  1.],\n",
       "       [ 1.,  1.,  1.],\n",
       "       [ 1.,  1.,  1.]])"
      ]
     },
     "execution_count": 4,
     "metadata": {},
     "output_type": "execute_result"
    }
   ],
   "source": [
    "k = np.ones((3, 3))\n",
    "k"
   ]
  },
  {
   "cell_type": "code",
   "execution_count": 5,
   "metadata": {},
   "outputs": [
    {
     "data": {
      "text/plain": [
       "array([[ 100.,  100.,    0.],\n",
       "       [ 150.,  150.,   50.],\n",
       "       [ 150.,  150.,   50.]])"
      ]
     },
     "execution_count": 5,
     "metadata": {},
     "output_type": "execute_result"
    }
   ],
   "source": [
    "convolve2d(x, k, mode=\"valid\")"
   ]
  },
  {
   "cell_type": "code",
   "execution_count": 6,
   "metadata": {},
   "outputs": [
    {
     "data": {
      "text/plain": [
       "array([[-3.,  1.,  1.],\n",
       "       [ 1.,  1.,  1.],\n",
       "       [ 1.,  1.,  1.]])"
      ]
     },
     "execution_count": 6,
     "metadata": {},
     "output_type": "execute_result"
    }
   ],
   "source": [
    "k[0][0] = -3\n",
    "k"
   ]
  },
  {
   "cell_type": "code",
   "execution_count": 7,
   "metadata": {
    "collapsed": true
   },
   "outputs": [],
   "source": [
    "def relu(z):\n",
    "    return np.maximum(z, 0)"
   ]
  },
  {
   "cell_type": "code",
   "execution_count": 8,
   "metadata": {},
   "outputs": [
    {
     "data": {
      "text/plain": [
       "array([[ 0.,  1.,  1.],\n",
       "       [ 1.,  1.,  1.],\n",
       "       [ 1.,  1.,  1.]])"
      ]
     },
     "execution_count": 8,
     "metadata": {},
     "output_type": "execute_result"
    }
   ],
   "source": [
    "relu(k)"
   ]
  },
  {
   "cell_type": "code",
   "execution_count": 9,
   "metadata": {},
   "outputs": [
    {
     "data": {
      "text/plain": [
       "array([1, 2, 3])"
      ]
     },
     "execution_count": 9,
     "metadata": {},
     "output_type": "execute_result"
    }
   ],
   "source": [
    "a = np.array([1,2,3])\n",
    "a"
   ]
  },
  {
   "cell_type": "code",
   "execution_count": 10,
   "metadata": {},
   "outputs": [
    {
     "data": {
      "text/plain": [
       "array([4, 5, 6])"
      ]
     },
     "execution_count": 10,
     "metadata": {},
     "output_type": "execute_result"
    }
   ],
   "source": [
    "b = np.array([4,5,6])\n",
    "b"
   ]
  },
  {
   "cell_type": "code",
   "execution_count": 11,
   "metadata": {},
   "outputs": [
    {
     "data": {
      "text/plain": [
       "array([5, 7, 9])"
      ]
     },
     "execution_count": 11,
     "metadata": {},
     "output_type": "execute_result"
    }
   ],
   "source": [
    "a + b"
   ]
  },
  {
   "cell_type": "code",
   "execution_count": 12,
   "metadata": {},
   "outputs": [
    {
     "data": {
      "text/plain": [
       "array([[[ 0.,  0.,  0.],\n",
       "        [ 0.,  0.,  0.],\n",
       "        [ 0.,  0.,  0.]],\n",
       "\n",
       "       [[ 0.,  0.,  0.],\n",
       "        [ 0.,  0.,  0.],\n",
       "        [ 0.,  0.,  0.]],\n",
       "\n",
       "       [[ 0.,  0.,  0.],\n",
       "        [ 0.,  0.,  0.],\n",
       "        [ 0.,  0.,  0.]],\n",
       "\n",
       "       [[ 0.,  0.,  0.],\n",
       "        [ 0.,  0.,  0.],\n",
       "        [ 0.,  0.,  0.]],\n",
       "\n",
       "       [[ 0.,  0.,  0.],\n",
       "        [ 0.,  0.,  0.],\n",
       "        [ 0.,  0.,  0.]]])"
      ]
     },
     "execution_count": 12,
     "metadata": {},
     "output_type": "execute_result"
    }
   ],
   "source": [
    "out_d = 3\n",
    "k = 5\n",
    "w = np.zeros((5, out_d, out_d))\n",
    "w"
   ]
  },
  {
   "cell_type": "code",
   "execution_count": 13,
   "metadata": {},
   "outputs": [
    {
     "data": {
      "text/plain": [
       "array([[[ 20.,   0.,   0.],\n",
       "        [  0.,  50.,   0.],\n",
       "        [  0.,   0.,   0.]],\n",
       "\n",
       "       [[ 20.,   0.,   0.],\n",
       "        [  0.,  50.,   0.],\n",
       "        [  0.,   0.,   0.]],\n",
       "\n",
       "       [[ 20.,   0.,   0.],\n",
       "        [  0.,  50.,   0.],\n",
       "        [  0.,   0.,   0.]],\n",
       "\n",
       "       [[ 20.,   0.,   0.],\n",
       "        [  0.,  50.,   0.],\n",
       "        [  0.,   0.,   0.]],\n",
       "\n",
       "       [[ 20.,   0.,   0.],\n",
       "        [  0.,  50.,   0.],\n",
       "        [  0.,   0.,   0.]]])"
      ]
     },
     "execution_count": 13,
     "metadata": {},
     "output_type": "execute_result"
    }
   ],
   "source": [
    "for i in range(k):\n",
    "    w[i][0][0] = 20\n",
    "    w[i][1][1] = 50\n",
    "w"
   ]
  },
  {
   "cell_type": "code",
   "execution_count": 14,
   "metadata": {},
   "outputs": [
    {
     "data": {
      "text/plain": [
       "array([1, 2, 3, 4, 5])"
      ]
     },
     "execution_count": 14,
     "metadata": {},
     "output_type": "execute_result"
    }
   ],
   "source": [
    "mul = np.array([1,2,3,4,5])\n",
    "mul"
   ]
  },
  {
   "cell_type": "code",
   "execution_count": 15,
   "metadata": {},
   "outputs": [
    {
     "data": {
      "text/plain": [
       "(5, 3, 3)"
      ]
     },
     "execution_count": 15,
     "metadata": {},
     "output_type": "execute_result"
    }
   ],
   "source": [
    "w.shape"
   ]
  },
  {
   "cell_type": "code",
   "execution_count": 16,
   "metadata": {},
   "outputs": [
    {
     "data": {
      "text/plain": [
       "array([[[1]],\n",
       "\n",
       "       [[2]],\n",
       "\n",
       "       [[3]],\n",
       "\n",
       "       [[4]],\n",
       "\n",
       "       [[5]]])"
      ]
     },
     "execution_count": 16,
     "metadata": {},
     "output_type": "execute_result"
    }
   ],
   "source": [
    "mul.reshape((5, 1, 1))"
   ]
  },
  {
   "cell_type": "code",
   "execution_count": 17,
   "metadata": {},
   "outputs": [
    {
     "data": {
      "text/plain": [
       "array([[[  20.,    0.,    0.],\n",
       "        [   0.,   50.,    0.],\n",
       "        [   0.,    0.,    0.]],\n",
       "\n",
       "       [[  40.,    0.,    0.],\n",
       "        [   0.,  100.,    0.],\n",
       "        [   0.,    0.,    0.]],\n",
       "\n",
       "       [[  60.,    0.,    0.],\n",
       "        [   0.,  150.,    0.],\n",
       "        [   0.,    0.,    0.]],\n",
       "\n",
       "       [[  80.,    0.,    0.],\n",
       "        [   0.,  200.,    0.],\n",
       "        [   0.,    0.,    0.]],\n",
       "\n",
       "       [[ 100.,    0.,    0.],\n",
       "        [   0.,  250.,    0.],\n",
       "        [   0.,    0.,    0.]]])"
      ]
     },
     "execution_count": 17,
     "metadata": {},
     "output_type": "execute_result"
    }
   ],
   "source": [
    "tmp = np.multiply(mul.reshape((5, 1, 1)), w)\n",
    "tmp"
   ]
  },
  {
   "cell_type": "code",
   "execution_count": 18,
   "metadata": {},
   "outputs": [
    {
     "data": {
      "text/plain": [
       "array([[ 300.,    0.,    0.],\n",
       "       [   0.,  750.,    0.],\n",
       "       [   0.,    0.,    0.]])"
      ]
     },
     "execution_count": 18,
     "metadata": {},
     "output_type": "execute_result"
    }
   ],
   "source": [
    "tmp.sum(axis=0)"
   ]
  },
  {
   "cell_type": "code",
   "execution_count": 19,
   "metadata": {},
   "outputs": [
    {
     "data": {
      "text/plain": [
       "1050.0"
      ]
     },
     "execution_count": 19,
     "metadata": {},
     "output_type": "execute_result"
    }
   ],
   "source": [
    "np.sum(tmp)"
   ]
  },
  {
   "cell_type": "code",
   "execution_count": 21,
   "metadata": {},
   "outputs": [
    {
     "data": {
      "text/plain": [
       "array([[[  20.,    0.,    0.],\n",
       "        [   0.,   50.,    0.],\n",
       "        [   0.,    0.,    0.]],\n",
       "\n",
       "       [[  40.,    0.,    0.],\n",
       "        [   0.,  100.,    0.],\n",
       "        [   0.,    0.,    0.]],\n",
       "\n",
       "       [[  60.,    0.,    0.],\n",
       "        [   0.,  150.,    0.],\n",
       "        [   0.,    0.,    0.]],\n",
       "\n",
       "       [[  80.,    0.,    0.],\n",
       "        [   0.,  200.,    0.],\n",
       "        [   0.,    0.,    0.]],\n",
       "\n",
       "       [[ 100.,    0.,    0.],\n",
       "        [   0.,  250.,    0.],\n",
       "        [   0.,    0.,    0.]]])"
      ]
     },
     "execution_count": 21,
     "metadata": {},
     "output_type": "execute_result"
    }
   ],
   "source": [
    "w = tmp\n",
    "w"
   ]
  },
  {
   "cell_type": "code",
   "execution_count": 22,
   "metadata": {},
   "outputs": [
    {
     "data": {
      "text/plain": [
       "(5, 3, 3)"
      ]
     },
     "execution_count": 22,
     "metadata": {},
     "output_type": "execute_result"
    }
   ],
   "source": [
    "w.shape"
   ]
  },
  {
   "cell_type": "code",
   "execution_count": 49,
   "metadata": {},
   "outputs": [
    {
     "data": {
      "text/plain": [
       "array([[  3.,   0.,   0.],\n",
       "       [  0.,   4.,   5.],\n",
       "       [  0.,  10.,   0.]])"
      ]
     },
     "execution_count": 49,
     "metadata": {},
     "output_type": "execute_result"
    }
   ],
   "source": [
    "h = np.zeros((3, 3,))\n",
    "h[1][2] = 5\n",
    "h[2][1] = 10\n",
    "h[0][0] = 3\n",
    "h[1][1] = 4\n",
    "h"
   ]
  },
  {
   "cell_type": "code",
   "execution_count": 50,
   "metadata": {},
   "outputs": [
    {
     "data": {
      "text/plain": [
       "array([[[   60.,     0.,     0.],\n",
       "        [    0.,   200.,     0.],\n",
       "        [    0.,     0.,     0.]],\n",
       "\n",
       "       [[  120.,     0.,     0.],\n",
       "        [    0.,   400.,     0.],\n",
       "        [    0.,     0.,     0.]],\n",
       "\n",
       "       [[  180.,     0.,     0.],\n",
       "        [    0.,   600.,     0.],\n",
       "        [    0.,     0.,     0.]],\n",
       "\n",
       "       [[  240.,     0.,     0.],\n",
       "        [    0.,   800.,     0.],\n",
       "        [    0.,     0.,     0.]],\n",
       "\n",
       "       [[  300.,     0.,     0.],\n",
       "        [    0.,  1000.,     0.],\n",
       "        [    0.,     0.,     0.]]])"
      ]
     },
     "execution_count": 50,
     "metadata": {},
     "output_type": "execute_result"
    }
   ],
   "source": [
    "np.multiply(w, h)"
   ]
  },
  {
   "cell_type": "code",
   "execution_count": 51,
   "metadata": {},
   "outputs": [
    {
     "data": {
      "text/plain": [
       "array([[  300.,     0.,     0.],\n",
       "       [    0.,  1000.,     0.],\n",
       "       [    0.,     0.,     0.]])"
      ]
     },
     "execution_count": 51,
     "metadata": {},
     "output_type": "execute_result"
    }
   ],
   "source": [
    "np.multiply(w[4], h)"
   ]
  },
  {
   "cell_type": "code",
   "execution_count": 52,
   "metadata": {},
   "outputs": [
    {
     "data": {
      "text/plain": [
       "array([  260.,   520.,   780.,  1040.,  1300.])"
      ]
     },
     "execution_count": 52,
     "metadata": {},
     "output_type": "execute_result"
    }
   ],
   "source": [
    "np.sum(np.multiply(w, h), axis=(1,2))"
   ]
  },
  {
   "cell_type": "code",
   "execution_count": 61,
   "metadata": {},
   "outputs": [
    {
     "data": {
      "text/plain": [
       "array([1, 2, 3, 4, 5])"
      ]
     },
     "execution_count": 61,
     "metadata": {},
     "output_type": "execute_result"
    }
   ],
   "source": [
    "u = np.array([1,2,3,4,5])\n",
    "u"
   ]
  },
  {
   "cell_type": "code",
   "execution_count": 68,
   "metadata": {},
   "outputs": [
    {
     "data": {
      "text/plain": [
       "array([[1],\n",
       "       [2],\n",
       "       [3],\n",
       "       [4],\n",
       "       [5]])"
      ]
     },
     "execution_count": 68,
     "metadata": {},
     "output_type": "execute_result"
    }
   ],
   "source": [
    "u = u[:, np.newaxis]\n",
    "u"
   ]
  },
  {
   "cell_type": "code",
   "execution_count": 110,
   "metadata": {
    "collapsed": true
   },
   "outputs": [],
   "source": [
    "def my_convolve(x, filter_):\n",
    "    \"\"\"Convolution operation, assuming that stride=1, padding=0.\n",
    "    \"\"\"\n",
    "    in_dim = x.shape[0]\n",
    "    filter_size = filter_.shape[0]\n",
    "    out_dim = in_dim - filter_size + 1\n",
    "    feature_map = np.zeros((out_dim, out_dim))\n",
    "\n",
    "    for i in range(out_dim):\n",
    "        for j in range(out_dim):\n",
    "            feature_map[i][j] = np.sum(np.multiply(x[i:i+filter_size, j:j+filter_size], filter_))\n",
    "    \n",
    "    return feature_map"
   ]
  },
  {
   "cell_type": "code",
   "execution_count": 111,
   "metadata": {},
   "outputs": [
    {
     "data": {
      "text/plain": [
       "array([[  0.,   0.,   0.,   0.,   0.],\n",
       "       [  0.,   3.,   0.,   0.,   0.],\n",
       "       [  0.,   0.,   5.,   0.,   0.],\n",
       "       [  0.,   0.,   0.,   0.,   0.],\n",
       "       [  0.,   0.,   0.,   0.,  10.]])"
      ]
     },
     "execution_count": 111,
     "metadata": {},
     "output_type": "execute_result"
    }
   ],
   "source": [
    "x = np.zeros((5, 5))\n",
    "x[2][2] = 5\n",
    "x[1][1] = 3\n",
    "x[4][4] = 10\n",
    "x"
   ]
  },
  {
   "cell_type": "code",
   "execution_count": 112,
   "metadata": {},
   "outputs": [
    {
     "data": {
      "text/plain": [
       "array([[   1.,    1.,    1.],\n",
       "       [   1.,    1.,    1.],\n",
       "       [   1.,  100.,  100.]])"
      ]
     },
     "execution_count": 112,
     "metadata": {},
     "output_type": "execute_result"
    }
   ],
   "source": [
    "f = np.ones((3, 3))\n",
    "f[2][1] = 100\n",
    "f[2][2] = 100\n",
    "f"
   ]
  },
  {
   "cell_type": "code",
   "execution_count": 113,
   "metadata": {},
   "outputs": [
    {
     "data": {
      "text/plain": [
       "array([[  503.,   503.,     5.],\n",
       "       [    8.,     8.,     5.],\n",
       "       [    5.,     5.,  1005.]])"
      ]
     },
     "execution_count": 113,
     "metadata": {},
     "output_type": "execute_result"
    }
   ],
   "source": [
    "my_convolve(x, f)"
   ]
  },
  {
   "cell_type": "code",
   "execution_count": 153,
   "metadata": {
    "collapsed": true
   },
   "outputs": [],
   "source": [
    "import numpy as np\n",
    "\n",
    "class ConvolveOps:\n",
    "    def __init__(self, x, filter_):\n",
    "        self.in_dim = x.shape[0]\n",
    "        self.filter_size = filter_.shape[0]\n",
    "        self.out_dim = self.in_dim - self.filter_size + 1\n",
    "        self.feature_map = np.zeros((self.out_dim, self.out_dim))\n",
    "\n",
    "        self.x = x\n",
    "        self.filter = filter_\n",
    "\n",
    "    def convolve(self, optimize=True):\n",
    "        \"\"\"Perform convolution between the input image and the filter.\n",
    "        Args:\n",
    "            optimize(boolean): choose to use the optimized convolution op or not.\n",
    "        \"\"\"\n",
    "        if optimize:\n",
    "            return self._convolve_optimize()\n",
    "        else:\n",
    "            return self._convolve_brute_force()\n",
    "\n",
    "    def _convolve_brute_force(self):\n",
    "        \"\"\"Brute force convolution operation, assuming that stride=1, padding=0.\"\"\"\n",
    "        for i in range(self.out_dim):\n",
    "            for j in range(self.out_dim):\n",
    "                self.feature_map[i][j] = np.sum(\n",
    "                        np.multiply(self.x[i:i+self.filter_size, j:j+self.filter_size], \n",
    "                                    self.filter)\n",
    "                        )\n",
    "        \n",
    "        return self.feature_map\n",
    "    \n",
    "    def _convolve_optimize(self):\n",
    "        \"\"\"Optimized convolution operation implemented matrix multiplication.\"\"\"\n",
    "        x_col = self._image_to_col()\n",
    "        filter_row = self._filter_to_row()\n",
    "\n",
    "        # Convolve, resulting in shape (#filters, #receptive_fields)\n",
    "        self.feature_map = np.dot(filter_row, x_col)\n",
    "\n",
    "        # Reshape the result into (out_dim, out_dim, c), no channel at this point\n",
    "        self.feature_map = self.feature_map.reshape((self.out_dim, self.out_dim))\n",
    "\n",
    "        return self.feature_map\n",
    "    \n",
    "    def _image_to_col(self):\n",
    "        \"\"\"Stretch the local regions in the input image into columns.\n",
    "        Original dimension of x: (d, d)\n",
    "        Stretched dimension of x: (#weights_in_a_filter, #receptive_fields)\n",
    "                i.e., (filter_size * filter_size * c, out_dim * out_dim)\n",
    "                where c is the number of channels\n",
    "        \"\"\"\n",
    "        x_col = np.zeros((self.filter_size * self.filter_size, self.out_dim * self.out_dim))\n",
    "        count = 0\n",
    "        for i in range(self.out_dim):\n",
    "            for j in range(self.out_dim):\n",
    "                x_col[:, count] = self.x[i:i+self.filter_size, j:j+self.filter_size].flatten()\n",
    "                count += 1\n",
    "#                 print(self.x[i:i+self.filter_size, j:j+self.filter_size])\n",
    "#                 print(count)\n",
    "        \n",
    "        return x_col\n",
    "    \n",
    "    def _filter_to_row(self):\n",
    "        \"\"\"Stretch the weights in the filter into rows.\n",
    "        Original dimension of filter: (filter_size, filter_size)\n",
    "        Stretched dimention of filter: (#filters, #weights_in_a_filter)\n",
    "                i.e., (c, filter_size * filter_size * c)\n",
    "                where c is the number of channels\n",
    "        \"\"\"\n",
    "        # filter_row = np.zeros(self.filter_size * self.filter_size)\n",
    "        filter_row = self.filter.flatten()\n",
    "\n",
    "        return filter_row[np.newaxis, :]  "
   ]
  },
  {
   "cell_type": "code",
   "execution_count": 154,
   "metadata": {},
   "outputs": [],
   "source": [
    "c = ConvolveOps(x, f)"
   ]
  },
  {
   "cell_type": "code",
   "execution_count": 155,
   "metadata": {},
   "outputs": [
    {
     "data": {
      "text/plain": [
       "array([[  503.,   503.,     5.],\n",
       "       [    8.,     8.,     5.],\n",
       "       [    5.,     5.,  1005.]])"
      ]
     },
     "execution_count": 155,
     "metadata": {},
     "output_type": "execute_result"
    }
   ],
   "source": [
    "c.convolve(False)"
   ]
  },
  {
   "cell_type": "code",
   "execution_count": 151,
   "metadata": {},
   "outputs": [
    {
     "data": {
      "text/plain": [
       "array([[  0.,   0.,   0.,   0.,   3.,   0.,   0.,   0.,   5.],\n",
       "       [  0.,   0.,   0.,   3.,   0.,   0.,   0.,   5.,   0.],\n",
       "       [  0.,   0.,   0.,   0.,   0.,   0.,   5.,   0.,   0.],\n",
       "       [  0.,   3.,   0.,   0.,   0.,   5.,   0.,   0.,   0.],\n",
       "       [  3.,   0.,   0.,   0.,   5.,   0.,   0.,   0.,   0.],\n",
       "       [  0.,   0.,   0.,   5.,   0.,   0.,   0.,   0.,   0.],\n",
       "       [  0.,   0.,   5.,   0.,   0.,   0.,   0.,   0.,   0.],\n",
       "       [  0.,   5.,   0.,   0.,   0.,   0.,   0.,   0.,   0.],\n",
       "       [  5.,   0.,   0.,   0.,   0.,   0.,   0.,   0.,  10.]])"
      ]
     },
     "execution_count": 151,
     "metadata": {},
     "output_type": "execute_result"
    }
   ],
   "source": [
    "c._image_to_col()"
   ]
  },
  {
   "cell_type": "code",
   "execution_count": 130,
   "metadata": {},
   "outputs": [
    {
     "data": {
      "text/plain": [
       "array([[  0.,   0.,   0.,   0.,   0.],\n",
       "       [  0.,   3.,   0.,   0.,   0.],\n",
       "       [  0.,   0.,   5.,   0.,   0.],\n",
       "       [  0.,   0.,   0.,   0.,   0.],\n",
       "       [  0.,   0.,   0.,   0.,  10.]])"
      ]
     },
     "execution_count": 130,
     "metadata": {},
     "output_type": "execute_result"
    }
   ],
   "source": [
    "x"
   ]
  },
  {
   "cell_type": "code",
   "execution_count": 156,
   "metadata": {},
   "outputs": [
    {
     "data": {
      "text/plain": [
       "array([[  503.,   503.,     5.],\n",
       "       [    8.,     8.,     5.],\n",
       "       [    5.,     5.,  1005.]])"
      ]
     },
     "execution_count": 156,
     "metadata": {},
     "output_type": "execute_result"
    }
   ],
   "source": [
    "c.convolve(True)"
   ]
  },
  {
   "cell_type": "code",
   "execution_count": 157,
   "metadata": {},
   "outputs": [
    {
     "data": {
      "text/plain": [
       "array([[  0.,   0.,   0.,   0.,   0.],\n",
       "       [  0.,   3.,   0.,   0.,   0.],\n",
       "       [  0.,   0.,   5.,   0.,   0.],\n",
       "       [  0.,   0.,   0.,   0.,   0.],\n",
       "       [  0.,   0.,   0.,   0.,  10.]])"
      ]
     },
     "execution_count": 157,
     "metadata": {},
     "output_type": "execute_result"
    }
   ],
   "source": [
    "x"
   ]
  },
  {
   "cell_type": "code",
   "execution_count": 161,
   "metadata": {},
   "outputs": [
    {
     "data": {
      "text/plain": [
       "(5, 5, 3)"
      ]
     },
     "execution_count": 161,
     "metadata": {},
     "output_type": "execute_result"
    }
   ],
   "source": [
    "c = 3\n",
    "x_stack = np.zeros((5, 5, c))  # 3 channels\n",
    "x_stack[:, :, 0] = x\n",
    "x_stack[:, :, 1] = x\n",
    "x_stack[:, :, 2] = x\n",
    "x_stack.shape"
   ]
  },
  {
   "cell_type": "code",
   "execution_count": 170,
   "metadata": {},
   "outputs": [
    {
     "data": {
      "text/plain": [
       "array([[[ 0.,  0.,  0.],\n",
       "        [ 0.,  0.,  0.],\n",
       "        [ 0.,  0.,  0.]],\n",
       "\n",
       "       [[ 0.,  0.,  0.],\n",
       "        [ 3.,  3.,  3.],\n",
       "        [ 0.,  0.,  0.]],\n",
       "\n",
       "       [[ 0.,  0.,  0.],\n",
       "        [ 0.,  0.,  0.],\n",
       "        [ 5.,  5.,  5.]]])"
      ]
     },
     "execution_count": 170,
     "metadata": {},
     "output_type": "execute_result"
    }
   ],
   "source": [
    "x = x_stack[0:3, 0:3, :]\n",
    "x"
   ]
  },
  {
   "cell_type": "code",
   "execution_count": 166,
   "metadata": {},
   "outputs": [
    {
     "data": {
      "text/plain": [
       "array([ 0.,  0.,  0.,  0.,  3.,  0.,  0.,  0.,  5.,  0.,  0.,  0.,  0.,\n",
       "        3.,  0.,  0.,  0.,  5.,  0.,  0.,  0.,  0.,  3.,  0.,  0.,  0.,  5.])"
      ]
     },
     "execution_count": 166,
     "metadata": {},
     "output_type": "execute_result"
    }
   ],
   "source": [
    "x_stack[0:3, 0:3, :].T.flatten()"
   ]
  },
  {
   "cell_type": "code",
   "execution_count": 171,
   "metadata": {},
   "outputs": [
    {
     "data": {
      "text/plain": [
       "array([[[  0.,   0.,   0.],\n",
       "        [  0.,   0.,   0.],\n",
       "        [  0.,   0.,   0.],\n",
       "        [  0.,   0.,   0.],\n",
       "        [  0.,   0.,   0.]],\n",
       "\n",
       "       [[  0.,   0.,   0.],\n",
       "        [  3.,   3.,   3.],\n",
       "        [  0.,   0.,   0.],\n",
       "        [  0.,   0.,   0.],\n",
       "        [  0.,   0.,   0.]],\n",
       "\n",
       "       [[  0.,   0.,   0.],\n",
       "        [  0.,   0.,   0.],\n",
       "        [  5.,   5.,   5.],\n",
       "        [  0.,   0.,   0.],\n",
       "        [  0.,   0.,   0.]],\n",
       "\n",
       "       [[  0.,   0.,   0.],\n",
       "        [  0.,   0.,   0.],\n",
       "        [  0.,   0.,   0.],\n",
       "        [  0.,   0.,   0.],\n",
       "        [  0.,   0.,   0.]],\n",
       "\n",
       "       [[  0.,   0.,   0.],\n",
       "        [  0.,   0.,   0.],\n",
       "        [  0.,   0.,   0.],\n",
       "        [  0.,   0.,   0.],\n",
       "        [ 10.,  10.,  10.]]])"
      ]
     },
     "execution_count": 171,
     "metadata": {},
     "output_type": "execute_result"
    }
   ],
   "source": [
    "x_stack"
   ]
  },
  {
   "cell_type": "code",
   "execution_count": 169,
   "metadata": {
    "collapsed": true
   },
   "outputs": [],
   "source": [
    "import numpy as np\n",
    "\n",
    "class ConvolveOps:\n",
    "    def __init__(self, x, filter_):\n",
    "        self.in_dim = x.shape[0]\n",
    "        self.filter_size = filter_.shape[0]\n",
    "        self.c = filter_.shape[2]\n",
    "        self.out_dim = self.in_dim - self.filter_size + 1\n",
    "\n",
    "        self.feature_map = np.zeros((self.out_dim, self.out_dim, self.c))\n",
    "\n",
    "        self.x = x\n",
    "        self.filter = filter_\n",
    "\n",
    "    def convolve(self, optimize=True):\n",
    "        \"\"\"Perform convolution between the input image and the filter.\n",
    "        Args:\n",
    "            optimize(boolean): choose to use the optimized convolution op or not.\n",
    "            the brute force operation can be used for debugging.\n",
    "        \"\"\"\n",
    "        if optimize:\n",
    "            return self._convolve_optimize()\n",
    "        else:\n",
    "            return self._convolve_brute_force()\n",
    "\n",
    "    def _convolve_brute_force(self):\n",
    "        \"\"\"Brute force convolution operation, assuming that stride=1, padding=0.\"\"\"\n",
    "        for depth_slice in range(self.c):\n",
    "            for i in range(self.out_dim):\n",
    "                for j in range(self.out_dim):\n",
    "                    self.feature_map[i][j][depth_slice] = np.sum(\n",
    "                                np.multiply(self.x[i:i+self.filter_size, j:j+self.filter_size], \n",
    "                                            self.filter[:, :, depth_slice])\n",
    "                                )\n",
    "        \n",
    "        return self.feature_map\n",
    "    \n",
    "    def _convolve_optimize(self):\n",
    "        \"\"\"Optimized convolution operation using matrix multiplication.\n",
    "        Achieved a speedup of ~10 times.\n",
    "        \"\"\"\n",
    "        x_col = self._image_to_col()\n",
    "        filter_row = self._filter_to_row()\n",
    "\n",
    "        # Convolve, resulting in shape (#filters, #receptive_fields)\n",
    "        self.feature_map = np.dot(filter_row, x_col)\n",
    "\n",
    "        # Reshape the result into (out_dim, out_dim, c), no channel at this point\n",
    "        self.feature_map = self.feature_map.reshape((self.out_dim, self.out_dim, self.c))\n",
    "\n",
    "        return self.feature_map\n",
    "    \n",
    "    def _image_to_col(self):\n",
    "        \"\"\"Stretch the local regions in the input image into columns.\n",
    "        Original dimension of x: (d, d)\n",
    "        Stretched dimension of x: (#weights_in_one_filter, #receptive_fields)\n",
    "                i.e., (filter_size * filter_size, out_dim * out_dim)\n",
    "                where c is the number of channels\n",
    "        \"\"\"\n",
    "        x_col = np.zeros((self.filter_size * self.filter_size, \n",
    "                          self.out_dim * self.out_dim))\n",
    "        index = 0\n",
    "        for i in range(self.out_dim):\n",
    "            for j in range(self.out_dim):\n",
    "                x_col[:, index] = self.x[i:i+self.filter_size, j:j+self.filter_size].flatten()\n",
    "                index += 1\n",
    "\n",
    "        return x_col\n",
    "    \n",
    "    def _filter_to_row(self):\n",
    "        \"\"\"Stretch the weights in the filter into rows.\n",
    "        Original dimension of filter: (filter_size, filter_size)\n",
    "        Stretched dimention of filter: (#filters, #weights_in_one_filter)\n",
    "                i.e., (c, filter_size * filter_size)\n",
    "                where c is the number of channels\n",
    "        \"\"\"\n",
    "        filter_row = np.zeros((self.c, self.filter_size * self.filter_size))\n",
    "        for i in range(self.c):\n",
    "            filter_row[i] = self.filter[:, :, i].T.flatten()\n",
    "        \n",
    "        return filter_row"
   ]
  },
  {
   "cell_type": "code",
   "execution_count": 173,
   "metadata": {},
   "outputs": [
    {
     "data": {
      "text/plain": [
       "array([[[ 0.,  0.,  0.],\n",
       "        [ 0.,  0.,  0.],\n",
       "        [ 0.,  0.,  0.]],\n",
       "\n",
       "       [[ 0.,  0.,  0.],\n",
       "        [ 3.,  3.,  3.],\n",
       "        [ 0.,  0.,  0.]],\n",
       "\n",
       "       [[ 0.,  0.,  0.],\n",
       "        [ 0.,  0.,  0.],\n",
       "        [ 5.,  5.,  5.]]])"
      ]
     },
     "execution_count": 173,
     "metadata": {},
     "output_type": "execute_result"
    }
   ],
   "source": [
    "f = x\n",
    "f"
   ]
  },
  {
   "cell_type": "code",
   "execution_count": 180,
   "metadata": {},
   "outputs": [
    {
     "data": {
      "text/plain": [
       "array([[ 0.,  0.,  0.],\n",
       "       [ 0.,  3.,  0.],\n",
       "       [ 0.,  0.,  5.]])"
      ]
     },
     "execution_count": 180,
     "metadata": {},
     "output_type": "execute_result"
    }
   ],
   "source": [
    "f[:, :, 0]"
   ]
  },
  {
   "cell_type": "code",
   "execution_count": 175,
   "metadata": {},
   "outputs": [
    {
     "data": {
      "text/plain": [
       "array([[ 100.,    0.,    0.,    0.,    0.],\n",
       "       [   0.,   50.,    0.,    0.,    0.],\n",
       "       [   0.,    0.,    0.,  200.,    0.],\n",
       "       [   0.,    0.,   60.,    0.,    0.],\n",
       "       [   0.,    0.,    0.,    0.,  300.]])"
      ]
     },
     "execution_count": 175,
     "metadata": {},
     "output_type": "execute_result"
    }
   ],
   "source": [
    "x = np.zeros((5, 5))\n",
    "x[0][0] = 100\n",
    "x[2][3] = 200\n",
    "x[4][4] = 300\n",
    "x[1][1] = 50\n",
    "x[3][2] = 60\n",
    "x"
   ]
  },
  {
   "cell_type": "code",
   "execution_count": 182,
   "metadata": {},
   "outputs": [],
   "source": [
    "c = ConvolveOps(x, f)"
   ]
  },
  {
   "cell_type": "code",
   "execution_count": 184,
   "metadata": {},
   "outputs": [
    {
     "data": {
      "text/plain": [
       "array([[[  150.,   150.,   150.],\n",
       "        [ 1000.,  1000.,  1000.],\n",
       "        [    0.,     0.,     0.]],\n",
       "\n",
       "       [[  300.,   300.,   300.],\n",
       "        [    0.,     0.,     0.],\n",
       "        [  600.,   600.,   600.]],\n",
       "\n",
       "       [[    0.,     0.,     0.],\n",
       "        [  180.,   180.,   180.],\n",
       "        [ 1500.,  1500.,  1500.]]])"
      ]
     },
     "execution_count": 184,
     "metadata": {},
     "output_type": "execute_result"
    }
   ],
   "source": [
    "res1 = c.convolve(optimize=False)\n",
    "res1"
   ]
  },
  {
   "cell_type": "code",
   "execution_count": 185,
   "metadata": {},
   "outputs": [
    {
     "data": {
      "text/plain": [
       "array([[  150.,  1000.,     0.],\n",
       "       [  300.,     0.,   600.],\n",
       "       [    0.,   180.,  1500.]])"
      ]
     },
     "execution_count": 185,
     "metadata": {},
     "output_type": "execute_result"
    }
   ],
   "source": [
    "res1[:, :, 0]"
   ]
  },
  {
   "cell_type": "code",
   "execution_count": 199,
   "metadata": {},
   "outputs": [
    {
     "data": {
      "text/plain": [
       "array([[  150.,  1000.,     0.,   300.,     0.,   600.,     0.,   180.,\n",
       "         1500.],\n",
       "       [  150.,  1000.,     0.,   300.,     0.,   600.,     0.,   180.,\n",
       "         1500.],\n",
       "       [  150.,  1000.,     0.,   300.,     0.,   600.,     0.,   180.,\n",
       "         1500.]])"
      ]
     },
     "execution_count": 199,
     "metadata": {},
     "output_type": "execute_result"
    }
   ],
   "source": [
    "temp = np.dot(c._filter_to_row(), c._image_to_col())\n",
    "temp"
   ]
  },
  {
   "cell_type": "code",
   "execution_count": 201,
   "metadata": {},
   "outputs": [
    {
     "data": {
      "text/plain": [
       "array([[[  150.,   150.,   150.],\n",
       "        [ 1000.,  1000.,  1000.],\n",
       "        [    0.,     0.,     0.]],\n",
       "\n",
       "       [[  300.,   300.,   300.],\n",
       "        [    0.,     0.,     0.],\n",
       "        [  600.,   600.,   600.]],\n",
       "\n",
       "       [[    0.,     0.,     0.],\n",
       "        [  180.,   180.,   180.],\n",
       "        [ 1500.,  1500.,  1500.]]])"
      ]
     },
     "execution_count": 201,
     "metadata": {},
     "output_type": "execute_result"
    }
   ],
   "source": [
    "temp.T.reshape(3, 3, 3)"
   ]
  },
  {
   "cell_type": "code",
   "execution_count": null,
   "metadata": {
    "collapsed": true
   },
   "outputs": [],
   "source": []
  }
 ],
 "metadata": {
  "kernelspec": {
   "display_name": "Python 3",
   "language": "python",
   "name": "python3"
  },
  "language_info": {
   "codemirror_mode": {
    "name": "ipython",
    "version": 3
   },
   "file_extension": ".py",
   "mimetype": "text/x-python",
   "name": "python",
   "nbconvert_exporter": "python",
   "pygments_lexer": "ipython3",
   "version": "3.6.4"
  }
 },
 "nbformat": 4,
 "nbformat_minor": 2
}
