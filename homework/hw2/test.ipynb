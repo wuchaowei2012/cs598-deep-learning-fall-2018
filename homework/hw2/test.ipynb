{
 "cells": [
  {
   "cell_type": "code",
   "execution_count": 1,
   "metadata": {
    "collapsed": true
   },
   "outputs": [],
   "source": [
    "from scipy.signal import convolve2d"
   ]
  },
  {
   "cell_type": "code",
   "execution_count": 2,
   "metadata": {
    "collapsed": true
   },
   "outputs": [],
   "source": [
    "import numpy as np\n",
    "x = np.zeros((5, 5))"
   ]
  },
  {
   "cell_type": "code",
   "execution_count": 3,
   "metadata": {},
   "outputs": [
    {
     "data": {
      "text/plain": [
       "array([[   0.,    0.,    0.,    0.,    0.],\n",
       "       [   0.,    0.,    0.,    0.,    0.],\n",
       "       [   0.,  100.,    0.,    0.,    0.],\n",
       "       [   0.,    0.,   50.,    0.,    0.],\n",
       "       [   0.,    0.,    0.,    0.,    0.]])"
      ]
     },
     "execution_count": 3,
     "metadata": {},
     "output_type": "execute_result"
    }
   ],
   "source": [
    "x[2][1] = 100\n",
    "x[3][2] = 50\n",
    "x"
   ]
  },
  {
   "cell_type": "code",
   "execution_count": 4,
   "metadata": {},
   "outputs": [
    {
     "data": {
      "text/plain": [
       "array([[ 1.,  1.,  1.],\n",
       "       [ 1.,  1.,  1.],\n",
       "       [ 1.,  1.,  1.]])"
      ]
     },
     "execution_count": 4,
     "metadata": {},
     "output_type": "execute_result"
    }
   ],
   "source": [
    "k = np.ones((3, 3))\n",
    "k"
   ]
  },
  {
   "cell_type": "code",
   "execution_count": 5,
   "metadata": {},
   "outputs": [
    {
     "data": {
      "text/plain": [
       "array([[ 100.,  100.,    0.],\n",
       "       [ 150.,  150.,   50.],\n",
       "       [ 150.,  150.,   50.]])"
      ]
     },
     "execution_count": 5,
     "metadata": {},
     "output_type": "execute_result"
    }
   ],
   "source": [
    "convolve2d(x, k, mode=\"valid\")"
   ]
  },
  {
   "cell_type": "code",
   "execution_count": 6,
   "metadata": {},
   "outputs": [
    {
     "data": {
      "text/plain": [
       "array([[-3.,  1.,  1.],\n",
       "       [ 1.,  1.,  1.],\n",
       "       [ 1.,  1.,  1.]])"
      ]
     },
     "execution_count": 6,
     "metadata": {},
     "output_type": "execute_result"
    }
   ],
   "source": [
    "k[0][0] = -3\n",
    "k"
   ]
  },
  {
   "cell_type": "code",
   "execution_count": 7,
   "metadata": {
    "collapsed": true
   },
   "outputs": [],
   "source": [
    "def relu(z):\n",
    "    return np.maximum(z, 0)"
   ]
  },
  {
   "cell_type": "code",
   "execution_count": 8,
   "metadata": {},
   "outputs": [
    {
     "data": {
      "text/plain": [
       "array([[ 0.,  1.,  1.],\n",
       "       [ 1.,  1.,  1.],\n",
       "       [ 1.,  1.,  1.]])"
      ]
     },
     "execution_count": 8,
     "metadata": {},
     "output_type": "execute_result"
    }
   ],
   "source": [
    "relu(k)"
   ]
  },
  {
   "cell_type": "code",
   "execution_count": 9,
   "metadata": {},
   "outputs": [
    {
     "data": {
      "text/plain": [
       "array([1, 2, 3])"
      ]
     },
     "execution_count": 9,
     "metadata": {},
     "output_type": "execute_result"
    }
   ],
   "source": [
    "a = np.array([1,2,3])\n",
    "a"
   ]
  },
  {
   "cell_type": "code",
   "execution_count": 10,
   "metadata": {},
   "outputs": [
    {
     "data": {
      "text/plain": [
       "array([4, 5, 6])"
      ]
     },
     "execution_count": 10,
     "metadata": {},
     "output_type": "execute_result"
    }
   ],
   "source": [
    "b = np.array([4,5,6])\n",
    "b"
   ]
  },
  {
   "cell_type": "code",
   "execution_count": 11,
   "metadata": {},
   "outputs": [
    {
     "data": {
      "text/plain": [
       "array([5, 7, 9])"
      ]
     },
     "execution_count": 11,
     "metadata": {},
     "output_type": "execute_result"
    }
   ],
   "source": [
    "a + b"
   ]
  },
  {
   "cell_type": "code",
   "execution_count": 12,
   "metadata": {},
   "outputs": [
    {
     "data": {
      "text/plain": [
       "array([[[ 0.,  0.,  0.],\n",
       "        [ 0.,  0.,  0.],\n",
       "        [ 0.,  0.,  0.]],\n",
       "\n",
       "       [[ 0.,  0.,  0.],\n",
       "        [ 0.,  0.,  0.],\n",
       "        [ 0.,  0.,  0.]],\n",
       "\n",
       "       [[ 0.,  0.,  0.],\n",
       "        [ 0.,  0.,  0.],\n",
       "        [ 0.,  0.,  0.]],\n",
       "\n",
       "       [[ 0.,  0.,  0.],\n",
       "        [ 0.,  0.,  0.],\n",
       "        [ 0.,  0.,  0.]],\n",
       "\n",
       "       [[ 0.,  0.,  0.],\n",
       "        [ 0.,  0.,  0.],\n",
       "        [ 0.,  0.,  0.]]])"
      ]
     },
     "execution_count": 12,
     "metadata": {},
     "output_type": "execute_result"
    }
   ],
   "source": [
    "out_d = 3\n",
    "k = 5\n",
    "w = np.zeros((5, out_d, out_d))\n",
    "w"
   ]
  },
  {
   "cell_type": "code",
   "execution_count": 13,
   "metadata": {},
   "outputs": [
    {
     "data": {
      "text/plain": [
       "array([[[ 20.,   0.,   0.],\n",
       "        [  0.,  50.,   0.],\n",
       "        [  0.,   0.,   0.]],\n",
       "\n",
       "       [[ 20.,   0.,   0.],\n",
       "        [  0.,  50.,   0.],\n",
       "        [  0.,   0.,   0.]],\n",
       "\n",
       "       [[ 20.,   0.,   0.],\n",
       "        [  0.,  50.,   0.],\n",
       "        [  0.,   0.,   0.]],\n",
       "\n",
       "       [[ 20.,   0.,   0.],\n",
       "        [  0.,  50.,   0.],\n",
       "        [  0.,   0.,   0.]],\n",
       "\n",
       "       [[ 20.,   0.,   0.],\n",
       "        [  0.,  50.,   0.],\n",
       "        [  0.,   0.,   0.]]])"
      ]
     },
     "execution_count": 13,
     "metadata": {},
     "output_type": "execute_result"
    }
   ],
   "source": [
    "for i in range(k):\n",
    "    w[i][0][0] = 20\n",
    "    w[i][1][1] = 50\n",
    "w"
   ]
  },
  {
   "cell_type": "code",
   "execution_count": 14,
   "metadata": {},
   "outputs": [
    {
     "data": {
      "text/plain": [
       "array([1, 2, 3, 4, 5])"
      ]
     },
     "execution_count": 14,
     "metadata": {},
     "output_type": "execute_result"
    }
   ],
   "source": [
    "mul = np.array([1,2,3,4,5])\n",
    "mul"
   ]
  },
  {
   "cell_type": "code",
   "execution_count": 15,
   "metadata": {},
   "outputs": [
    {
     "data": {
      "text/plain": [
       "(5, 3, 3)"
      ]
     },
     "execution_count": 15,
     "metadata": {},
     "output_type": "execute_result"
    }
   ],
   "source": [
    "w.shape"
   ]
  },
  {
   "cell_type": "code",
   "execution_count": 16,
   "metadata": {},
   "outputs": [
    {
     "data": {
      "text/plain": [
       "array([[[1]],\n",
       "\n",
       "       [[2]],\n",
       "\n",
       "       [[3]],\n",
       "\n",
       "       [[4]],\n",
       "\n",
       "       [[5]]])"
      ]
     },
     "execution_count": 16,
     "metadata": {},
     "output_type": "execute_result"
    }
   ],
   "source": [
    "mul.reshape((5, 1, 1))"
   ]
  },
  {
   "cell_type": "code",
   "execution_count": 17,
   "metadata": {},
   "outputs": [
    {
     "data": {
      "text/plain": [
       "array([[[  20.,    0.,    0.],\n",
       "        [   0.,   50.,    0.],\n",
       "        [   0.,    0.,    0.]],\n",
       "\n",
       "       [[  40.,    0.,    0.],\n",
       "        [   0.,  100.,    0.],\n",
       "        [   0.,    0.,    0.]],\n",
       "\n",
       "       [[  60.,    0.,    0.],\n",
       "        [   0.,  150.,    0.],\n",
       "        [   0.,    0.,    0.]],\n",
       "\n",
       "       [[  80.,    0.,    0.],\n",
       "        [   0.,  200.,    0.],\n",
       "        [   0.,    0.,    0.]],\n",
       "\n",
       "       [[ 100.,    0.,    0.],\n",
       "        [   0.,  250.,    0.],\n",
       "        [   0.,    0.,    0.]]])"
      ]
     },
     "execution_count": 17,
     "metadata": {},
     "output_type": "execute_result"
    }
   ],
   "source": [
    "tmp = np.multiply(mul.reshape((5, 1, 1)), w)\n",
    "tmp"
   ]
  },
  {
   "cell_type": "code",
   "execution_count": 18,
   "metadata": {},
   "outputs": [
    {
     "data": {
      "text/plain": [
       "array([[ 300.,    0.,    0.],\n",
       "       [   0.,  750.,    0.],\n",
       "       [   0.,    0.,    0.]])"
      ]
     },
     "execution_count": 18,
     "metadata": {},
     "output_type": "execute_result"
    }
   ],
   "source": [
    "tmp.sum(axis=0)"
   ]
  },
  {
   "cell_type": "code",
   "execution_count": 19,
   "metadata": {},
   "outputs": [
    {
     "data": {
      "text/plain": [
       "1050.0"
      ]
     },
     "execution_count": 19,
     "metadata": {},
     "output_type": "execute_result"
    }
   ],
   "source": [
    "np.sum(tmp)"
   ]
  },
  {
   "cell_type": "code",
   "execution_count": 21,
   "metadata": {},
   "outputs": [
    {
     "data": {
      "text/plain": [
       "array([[[  20.,    0.,    0.],\n",
       "        [   0.,   50.,    0.],\n",
       "        [   0.,    0.,    0.]],\n",
       "\n",
       "       [[  40.,    0.,    0.],\n",
       "        [   0.,  100.,    0.],\n",
       "        [   0.,    0.,    0.]],\n",
       "\n",
       "       [[  60.,    0.,    0.],\n",
       "        [   0.,  150.,    0.],\n",
       "        [   0.,    0.,    0.]],\n",
       "\n",
       "       [[  80.,    0.,    0.],\n",
       "        [   0.,  200.,    0.],\n",
       "        [   0.,    0.,    0.]],\n",
       "\n",
       "       [[ 100.,    0.,    0.],\n",
       "        [   0.,  250.,    0.],\n",
       "        [   0.,    0.,    0.]]])"
      ]
     },
     "execution_count": 21,
     "metadata": {},
     "output_type": "execute_result"
    }
   ],
   "source": [
    "w = tmp\n",
    "w"
   ]
  },
  {
   "cell_type": "code",
   "execution_count": 22,
   "metadata": {},
   "outputs": [
    {
     "data": {
      "text/plain": [
       "(5, 3, 3)"
      ]
     },
     "execution_count": 22,
     "metadata": {},
     "output_type": "execute_result"
    }
   ],
   "source": [
    "w.shape"
   ]
  },
  {
   "cell_type": "code",
   "execution_count": 49,
   "metadata": {},
   "outputs": [
    {
     "data": {
      "text/plain": [
       "array([[  3.,   0.,   0.],\n",
       "       [  0.,   4.,   5.],\n",
       "       [  0.,  10.,   0.]])"
      ]
     },
     "execution_count": 49,
     "metadata": {},
     "output_type": "execute_result"
    }
   ],
   "source": [
    "h = np.zeros((3, 3,))\n",
    "h[1][2] = 5\n",
    "h[2][1] = 10\n",
    "h[0][0] = 3\n",
    "h[1][1] = 4\n",
    "h"
   ]
  },
  {
   "cell_type": "code",
   "execution_count": 50,
   "metadata": {},
   "outputs": [
    {
     "data": {
      "text/plain": [
       "array([[[   60.,     0.,     0.],\n",
       "        [    0.,   200.,     0.],\n",
       "        [    0.,     0.,     0.]],\n",
       "\n",
       "       [[  120.,     0.,     0.],\n",
       "        [    0.,   400.,     0.],\n",
       "        [    0.,     0.,     0.]],\n",
       "\n",
       "       [[  180.,     0.,     0.],\n",
       "        [    0.,   600.,     0.],\n",
       "        [    0.,     0.,     0.]],\n",
       "\n",
       "       [[  240.,     0.,     0.],\n",
       "        [    0.,   800.,     0.],\n",
       "        [    0.,     0.,     0.]],\n",
       "\n",
       "       [[  300.,     0.,     0.],\n",
       "        [    0.,  1000.,     0.],\n",
       "        [    0.,     0.,     0.]]])"
      ]
     },
     "execution_count": 50,
     "metadata": {},
     "output_type": "execute_result"
    }
   ],
   "source": [
    "np.multiply(w, h)"
   ]
  },
  {
   "cell_type": "code",
   "execution_count": 51,
   "metadata": {},
   "outputs": [
    {
     "data": {
      "text/plain": [
       "array([[  300.,     0.,     0.],\n",
       "       [    0.,  1000.,     0.],\n",
       "       [    0.,     0.,     0.]])"
      ]
     },
     "execution_count": 51,
     "metadata": {},
     "output_type": "execute_result"
    }
   ],
   "source": [
    "np.multiply(w[4], h)"
   ]
  },
  {
   "cell_type": "code",
   "execution_count": 52,
   "metadata": {},
   "outputs": [
    {
     "data": {
      "text/plain": [
       "array([  260.,   520.,   780.,  1040.,  1300.])"
      ]
     },
     "execution_count": 52,
     "metadata": {},
     "output_type": "execute_result"
    }
   ],
   "source": [
    "np.sum(np.multiply(w, h), axis=(1,2))"
   ]
  },
  {
   "cell_type": "code",
   "execution_count": null,
   "metadata": {
    "collapsed": true
   },
   "outputs": [],
   "source": []
  }
 ],
 "metadata": {
  "kernelspec": {
   "display_name": "Python 3",
   "language": "python",
   "name": "python3"
  },
  "language_info": {
   "codemirror_mode": {
    "name": "ipython",
    "version": 3
   },
   "file_extension": ".py",
   "mimetype": "text/x-python",
   "name": "python",
   "nbconvert_exporter": "python",
   "pygments_lexer": "ipython3",
   "version": "3.6.4"
  }
 },
 "nbformat": 4,
 "nbformat_minor": 2
}
